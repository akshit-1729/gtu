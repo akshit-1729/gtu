{
 "cells": [
  {
   "cell_type": "code",
   "execution_count": null,
   "id": "38b3ce78",
   "metadata": {},
   "outputs": [],
   "source": [
    "x = ('a','b','c')\n",
    "print(x)"
   ]
  },
  {
   "cell_type": "code",
   "execution_count": 3,
   "id": "743ac4f4",
   "metadata": {},
   "outputs": [
    {
     "name": "stdout",
     "output_type": "stream",
     "text": [
      "<class 'str'>\n",
      "<class 'str'>\n",
      "hello\n"
     ]
    }
   ],
   "source": [
    "var = \"a\"\n",
    "var2 = 'a'\n",
    "print(type(var))\n",
    "print(type(var2))\n",
    "if var == var2:\n",
    "    print(\"hello\")"
   ]
  },
  {
   "cell_type": "code",
   "execution_count": 4,
   "id": "ddb9364d",
   "metadata": {},
   "outputs": [
    {
     "name": "stdout",
     "output_type": "stream",
     "text": [
      "Enter the value of a: 5531\n"
     ]
    }
   ],
   "source": [
    "a = int(input(\"Enter the value of a: \"))"
   ]
  },
  {
   "cell_type": "code",
   "execution_count": 5,
   "id": "1d1175bb",
   "metadata": {},
   "outputs": [
    {
     "name": "stdout",
     "output_type": "stream",
     "text": [
      "5531\n"
     ]
    }
   ],
   "source": [
    "print(a)"
   ]
  },
  {
   "cell_type": "code",
   "execution_count": 6,
   "id": "288f0287",
   "metadata": {},
   "outputs": [
    {
     "name": "stdout",
     "output_type": "stream",
     "text": [
      "python is a type of snake!!\n",
      "p\n",
      " \n",
      "i\n",
      "hello\n",
      "python is a type of snake!!\n",
      "thon is \n",
      "thon is a type of snake!!\n",
      "True\n",
      "thon is a type of snake!!\n"
     ]
    }
   ],
   "source": [
    "str1 = \"python is a type of snake!!\"\n",
    "print(str1)\n",
    "print(str1[0])\n",
    "print(str1[6])\n",
    "print(str1[7])\n",
    "print(\"hello\")\n",
    "print(str1[:])\n",
    "print(str1[2:10])\n",
    "print(str1[2:])\n",
    "ab = \"python\" in str1\n",
    "print(ab)\n",
    "print(str1[2:100])"
   ]
  },
  {
   "cell_type": "code",
   "execution_count": 7,
   "id": "af360433",
   "metadata": {},
   "outputs": [
    {
     "ename": "TypeError",
     "evalue": "'str' object does not support item assignment",
     "output_type": "error",
     "traceback": [
      "\u001b[1;31m---------------------------------------------------------------------------\u001b[0m",
      "\u001b[1;31mTypeError\u001b[0m                                 Traceback (most recent call last)",
      "\u001b[1;32m<ipython-input-7-2e631730c338>\u001b[0m in \u001b[0;36m<module>\u001b[1;34m\u001b[0m\n\u001b[1;32m----> 1\u001b[1;33m \u001b[0mstr1\u001b[0m\u001b[1;33m[\u001b[0m\u001b[1;36m0\u001b[0m\u001b[1;33m]\u001b[0m \u001b[1;33m=\u001b[0m \u001b[1;34m'a'\u001b[0m\u001b[1;33m\u001b[0m\u001b[1;33m\u001b[0m\u001b[0m\n\u001b[0m",
      "\u001b[1;31mTypeError\u001b[0m: 'str' object does not support item assignment"
     ]
    }
   ],
   "source": [
    "str1[0] = 'a'"
   ]
  },
  {
   "cell_type": "code",
   "execution_count": null,
   "id": "5cff7335",
   "metadata": {},
   "outputs": [],
   "source": [
    "del str1[1]"
   ]
  },
  {
   "cell_type": "code",
   "execution_count": null,
   "id": "beba5df3",
   "metadata": {},
   "outputs": [],
   "source": [
    "print(str1)\n",
    "del str1\n",
    "print(str1)\n"
   ]
  },
  {
   "cell_type": "code",
   "execution_count": null,
   "id": "d198ec9e",
   "metadata": {},
   "outputs": [],
   "source": [
    "print(\"\\\\\")\n",
    "print(\"\\'\")      \n",
    "print(\"\\a\")"
   ]
  },
  {
   "cell_type": "code",
   "execution_count": null,
   "id": "253693d6",
   "metadata": {},
   "outputs": [],
   "source": [
    "print(\"AB\" + \"\\b\" + \"b\")"
   ]
  },
  {
   "cell_type": "code",
   "execution_count": null,
   "id": "e120aa7f",
   "metadata": {},
   "outputs": [],
   "source": [
    "print(\"\\fhello\\fworld\")"
   ]
  },
  {
   "cell_type": "code",
   "execution_count": null,
   "id": "c1f50554",
   "metadata": {},
   "outputs": [],
   "source": [
    "print(\"hello\\nworld\")"
   ]
  },
  {
   "cell_type": "code",
   "execution_count": null,
   "id": "77ef48a6",
   "metadata": {},
   "outputs": [],
   "source": [
    "print(\"hello\" + \"\\f\" + \"world\")\n",
    "print(\"world\"f\"hello\")"
   ]
  },
  {
   "cell_type": "code",
   "execution_count": null,
   "id": "dbb8457c",
   "metadata": {},
   "outputs": [],
   "source": [
    "print(u\"\\N{DAGGER}\")\n",
    "print(\"123456\\r\")"
   ]
  },
  {
   "cell_type": "code",
   "execution_count": null,
   "id": "30f0f008",
   "metadata": {},
   "outputs": [],
   "source": [
    "print(\"\\u041b\")"
   ]
  },
  {
   "cell_type": "code",
   "execution_count": null,
   "id": "1d33088b",
   "metadata": {},
   "outputs": [],
   "source": [
    "print(\"\\O8\")"
   ]
  },
  {
   "cell_type": "code",
   "execution_count": null,
   "id": "31b7e86f",
   "metadata": {},
   "outputs": [],
   "source": [
    "print(\"\\010\")\n",
    "print(\"\\08\")\n",
    "print(\"\\O8\")\n",
    "print(\"\\o8\")"
   ]
  },
  {
   "cell_type": "code",
   "execution_count": null,
   "id": "70db42bf",
   "metadata": {},
   "outputs": [],
   "source": [
    "st = \"{} {} {}\".format('Python', 'Program', 'Anaconda')\n",
    "print(\"print string in default order\")\n",
    "print(st)\n",
    "st = \"{1} {0} {2}\".format('python', 'program', 'Anaconda')\n",
    "print(st)"
   ]
  },
  {
   "cell_type": "code",
   "execution_count": null,
   "id": "bc86c8c6",
   "metadata": {},
   "outputs": [],
   "source": [
    "st = \"{a} {e} {c}\".format(a = \"Python\", e = \"Program\", c = \"Anaconda\")\n",
    "print(st)"
   ]
  },
  {
   "cell_type": "code",
   "execution_count": null,
   "id": "a4d800e1",
   "metadata": {},
   "outputs": [],
   "source": [
    "st = \"{e} {e} {c}\".format(a = \"Python\", e = \"Program\", c = \"Anaconda\")\n",
    "print(st)"
   ]
  },
  {
   "cell_type": "code",
   "execution_count": 12,
   "id": "baeb4ad0",
   "metadata": {},
   "outputs": [
    {
     "name": "stdout",
     "output_type": "stream",
     "text": [
      "[1, 2, 3, 'abcd', 1.3432]\n"
     ]
    }
   ],
   "source": [
    "li = [1,2,3,\"abcd\",1.3432]\n",
    "print(li)"
   ]
  },
  {
   "cell_type": "code",
   "execution_count": 13,
   "id": "e8bfa096",
   "metadata": {},
   "outputs": [
    {
     "data": {
      "text/plain": [
       "[1, 2, 3, 'abcd']"
      ]
     },
     "execution_count": 13,
     "metadata": {},
     "output_type": "execute_result"
    }
   ],
   "source": [
    "li[0:4]"
   ]
  },
  {
   "cell_type": "code",
   "execution_count": 14,
   "id": "53b6c008",
   "metadata": {},
   "outputs": [
    {
     "name": "stdout",
     "output_type": "stream",
     "text": [
      "[1, 2, 3, 'abcd', 1.3432, 1, 2, 3, 'abcd', 1.3432]\n",
      "[3, 2, 1, 1, 2, 3, 'abcd', 1.3432]\n"
     ]
    }
   ],
   "source": [
    "print(li*2)\n",
    "s = [3,2,1]\n",
    "print(s+li)"
   ]
  },
  {
   "cell_type": "code",
   "execution_count": 15,
   "id": "44b80b8a",
   "metadata": {},
   "outputs": [
    {
     "name": "stdout",
     "output_type": "stream",
     "text": [
      "Enter any sequence : 342431\n"
     ]
    }
   ],
   "source": [
    "str = input(\"Enter any sequence : \")"
   ]
  },
  {
   "cell_type": "code",
   "execution_count": 16,
   "id": "0a56940b",
   "metadata": {},
   "outputs": [],
   "source": [
    "l = str.split(\"1\")"
   ]
  },
  {
   "cell_type": "code",
   "execution_count": 17,
   "id": "cc799699",
   "metadata": {},
   "outputs": [
    {
     "name": "stdout",
     "output_type": "stream",
     "text": [
      "['34243', '']\n"
     ]
    }
   ],
   "source": [
    "print(l)\n"
   ]
  },
  {
   "cell_type": "code",
   "execution_count": 18,
   "id": "60f1999c",
   "metadata": {},
   "outputs": [
    {
     "name": "stdout",
     "output_type": "stream",
     "text": [
      "Enter a number3241423\n",
      "3241423.dhahfkdas\n",
      "3241423 .dhahfkdas\n"
     ]
    }
   ],
   "source": [
    "num = int(input(\"Enter a number\"))\n",
    "print(num,\"dhahfkdas\", sep = '.')\n",
    "print(num,\".dhahfkdas\")\n"
   ]
  },
  {
   "cell_type": "code",
   "execution_count": 23,
   "id": "1942fe2f",
   "metadata": {},
   "outputs": [
    {
     "name": "stdout",
     "output_type": "stream",
     "text": [
      "('abck', [2, 3, 'AD'], 3.3214) [2, 3, 'AD']\n"
     ]
    }
   ],
   "source": [
    "l = [2,3,\"AD\"]\n",
    "tp = (\"abck\",l, 3.3214)\n",
    "print(tp,l)"
   ]
  },
  {
   "cell_type": "code",
   "execution_count": 25,
   "id": "2e7afb70",
   "metadata": {},
   "outputs": [
    {
     "name": "stdout",
     "output_type": "stream",
     "text": [
      "[2, 3, 'AD']\n"
     ]
    }
   ],
   "source": [
    "print(tp[1])"
   ]
  },
  {
   "cell_type": "code",
   "execution_count": 26,
   "id": "8e208af0",
   "metadata": {},
   "outputs": [
    {
     "name": "stdout",
     "output_type": "stream",
     "text": [
      "3\n"
     ]
    }
   ],
   "source": [
    "print(tp[1][1])"
   ]
  },
  {
   "cell_type": "code",
   "execution_count": 35,
   "id": "978e8091",
   "metadata": {},
   "outputs": [
    {
     "name": "stdout",
     "output_type": "stream",
     "text": [
      "5\n"
     ]
    }
   ],
   "source": [
    "tpp = ([1,2,3], [4,5,6], [7,8,9])\n",
    "print(tpp[1:2][0][1])"
   ]
  },
  {
   "cell_type": "code",
   "execution_count": 36,
   "id": "e1636e04",
   "metadata": {},
   "outputs": [
    {
     "ename": "TypeError",
     "evalue": "'tuple' object does not support item assignment",
     "output_type": "error",
     "traceback": [
      "\u001b[1;31m---------------------------------------------------------------------------\u001b[0m",
      "\u001b[1;31mTypeError\u001b[0m                                 Traceback (most recent call last)",
      "\u001b[1;32m<ipython-input-36-b339eec7148c>\u001b[0m in \u001b[0;36m<module>\u001b[1;34m\u001b[0m\n\u001b[1;32m----> 1\u001b[1;33m \u001b[0mtpp\u001b[0m\u001b[1;33m[\u001b[0m\u001b[1;36m1\u001b[0m\u001b[1;33m]\u001b[0m \u001b[1;33m=\u001b[0m \u001b[1;33m[\u001b[0m\u001b[1;36m32\u001b[0m\u001b[1;33m]\u001b[0m\u001b[1;33m\u001b[0m\u001b[1;33m\u001b[0m\u001b[0m\n\u001b[0m",
      "\u001b[1;31mTypeError\u001b[0m: 'tuple' object does not support item assignment"
     ]
    }
   ],
   "source": [
    "tpp[1] = [32]"
   ]
  },
  {
   "cell_type": "code",
   "execution_count": 37,
   "id": "70878ac3",
   "metadata": {},
   "outputs": [
    {
     "name": "stdout",
     "output_type": "stream",
     "text": [
      "[23, 3241, 0, 24324, 342, 4, 123, 2]\n"
     ]
    }
   ],
   "source": [
    "l = [23,3241,43,24324,342,4,123,2]\n",
    "l[2] = 0\n",
    "print(l)"
   ]
  },
  {
   "cell_type": "code",
   "execution_count": 39,
   "id": "a4eb4188",
   "metadata": {},
   "outputs": [
    {
     "name": "stdout",
     "output_type": "stream",
     "text": [
      "{}\n",
      "{'one': 'this i spython'}\n",
      "{'one': 'this i spython', 2: 'this is java'}\n"
     ]
    }
   ],
   "source": [
    "dict = {}\n",
    "print(dict)\n",
    "dict['one'] = \"this i spython\"\n",
    "print(dict)\n",
    "dict[2] = \"this is java\"\n",
    "print(dict)"
   ]
  },
  {
   "cell_type": "code",
   "execution_count": 40,
   "id": "30c01b65",
   "metadata": {},
   "outputs": [
    {
     "ename": "KeyError",
     "evalue": "0",
     "output_type": "error",
     "traceback": [
      "\u001b[1;31m---------------------------------------------------------------------------\u001b[0m",
      "\u001b[1;31mKeyError\u001b[0m                                  Traceback (most recent call last)",
      "\u001b[1;32m<ipython-input-40-04d4772449ba>\u001b[0m in \u001b[0;36m<module>\u001b[1;34m\u001b[0m\n\u001b[1;32m----> 1\u001b[1;33m \u001b[0mprint\u001b[0m\u001b[1;33m(\u001b[0m\u001b[0mdict\u001b[0m\u001b[1;33m[\u001b[0m\u001b[1;36m0\u001b[0m\u001b[1;33m]\u001b[0m\u001b[1;33m)\u001b[0m\u001b[1;33m\u001b[0m\u001b[1;33m\u001b[0m\u001b[0m\n\u001b[0m",
      "\u001b[1;31mKeyError\u001b[0m: 0"
     ]
    }
   ],
   "source": [
    "print(dict[0])\n"
   ]
  },
  {
   "cell_type": "code",
   "execution_count": 41,
   "id": "57e5ed3e",
   "metadata": {},
   "outputs": [],
   "source": [
    "dict[0] = [37418,3241,324,2]"
   ]
  },
  {
   "cell_type": "code",
   "execution_count": 42,
   "id": "2e7bb8a6",
   "metadata": {},
   "outputs": [
    {
     "name": "stdout",
     "output_type": "stream",
     "text": [
      "{'one': 'this i spython', 2: 'this is java', 0: [37418, 3241, 324, 2]}\n"
     ]
    }
   ],
   "source": [
    "print(dict)"
   ]
  },
  {
   "cell_type": "code",
   "execution_count": 43,
   "id": "e3b5c4a8",
   "metadata": {},
   "outputs": [
    {
     "name": "stdout",
     "output_type": "stream",
     "text": [
      "3.8.8\n"
     ]
    }
   ],
   "source": [
    "from platform import python_version\n",
    "\n",
    "print(python_version())\n"
   ]
  },
  {
   "cell_type": "code",
   "execution_count": 48,
   "id": "b16fad2a",
   "metadata": {},
   "outputs": [
    {
     "name": "stdout",
     "output_type": "stream",
     "text": [
      "{1: 'hello', 2: 'world', 3: 'how', 5: 'you', 4: 'are'}\n",
      "SortedDict({1: 'hello', 2: 'world', 3: 'how', 4: 'are', 5: 'you'})\n"
     ]
    }
   ],
   "source": [
    "from sortedcontainers import SortedDict\n",
    "\n",
    "dict = {1:\"hello\", 2:\"world\", 3:\"how\", 5:\"you\", 4:\"are\"}\n",
    "s = SortedDict(dict)\n",
    "print(dict)\n",
    "print(s)"
   ]
  },
  {
   "cell_type": "code",
   "execution_count": 49,
   "id": "0dea57ce",
   "metadata": {},
   "outputs": [
    {
     "ename": "AttributeError",
     "evalue": "'dict' object has no attribute 'sort'",
     "output_type": "error",
     "traceback": [
      "\u001b[1;31m---------------------------------------------------------------------------\u001b[0m",
      "\u001b[1;31mAttributeError\u001b[0m                            Traceback (most recent call last)",
      "\u001b[1;32m<ipython-input-49-9bc427f5e684>\u001b[0m in \u001b[0;36m<module>\u001b[1;34m\u001b[0m\n\u001b[1;32m----> 1\u001b[1;33m \u001b[0mdict\u001b[0m\u001b[1;33m.\u001b[0m\u001b[0msort\u001b[0m\u001b[1;33m(\u001b[0m\u001b[1;33m)\u001b[0m\u001b[1;33m\u001b[0m\u001b[1;33m\u001b[0m\u001b[0m\n\u001b[0m\u001b[0;32m      2\u001b[0m \u001b[0mprint\u001b[0m\u001b[1;33m(\u001b[0m\u001b[0mdict\u001b[0m\u001b[1;33m)\u001b[0m\u001b[1;33m\u001b[0m\u001b[1;33m\u001b[0m\u001b[0m\n",
      "\u001b[1;31mAttributeError\u001b[0m: 'dict' object has no attribute 'sort'"
     ]
    }
   ],
   "source": [
    "dict.sort()\n",
    "print(dict)"
   ]
  },
  {
   "cell_type": "code",
   "execution_count": 50,
   "id": "2ea04f24",
   "metadata": {},
   "outputs": [
    {
     "name": "stdout",
     "output_type": "stream",
     "text": [
      "[23, 342, 431, 3241, 11324]\n"
     ]
    }
   ],
   "source": [
    "li = [23,342,11324,3241,431]\n",
    "li.sort()\n",
    "print(li)"
   ]
  },
  {
   "cell_type": "code",
   "execution_count": 55,
   "id": "5f9c8e2b",
   "metadata": {},
   "outputs": [
    {
     "name": "stdout",
     "output_type": "stream",
     "text": [
      "value of count is : 9\n",
      "value of count is : 8\n",
      "value of count is : 7\n",
      "value of count is : 6\n",
      "value of count is : 5\n",
      "value of count is : 4\n",
      "value of count is : 3\n",
      "value of count is : 2\n",
      "value of count is : 1\n",
      "hello world\n"
     ]
    }
   ],
   "source": [
    "count = 9\n",
    "while(count):\n",
    "    print(\"value of count is : \", count,sep = \"\")\n",
    "    count -= 1\n",
    "print(\"hello world\")"
   ]
  },
  {
   "cell_type": "code",
   "execution_count": 59,
   "id": "0b044a2a",
   "metadata": {},
   "outputs": [
    {
     "name": "stdout",
     "output_type": "stream",
     "text": [
      "count is : 0\n",
      "count is : 1\n",
      "count is : 2\n",
      "count is : 3\n",
      "count is : 4\n",
      "count is : 5\n",
      "count is : 6\n",
      "count is : 7\n",
      "count is : 8\n",
      "count is : 9\n",
      "count is not less than 10\n",
      "done!\n"
     ]
    }
   ],
   "source": [
    "count = 0\n",
    "while(count < 10):\n",
    "    print(\"count is :\", count)\n",
    "    count += 1\n",
    "else: \n",
    "    print(\"count is not less than 10\")\n",
    "print(\"done!\")"
   ]
  },
  {
   "cell_type": "code",
   "execution_count": 63,
   "id": "966e3519",
   "metadata": {},
   "outputs": [
    {
     "name": "stdout",
     "output_type": "stream",
     "text": [
      "P\n",
      "y\n",
      "t\n",
      "h\n",
      "o\n",
      "n\n",
      "done!\n"
     ]
    }
   ],
   "source": [
    "for letter in 'Python':\n",
    "    print(letter)\n",
    "print(\"done!\")"
   ]
  },
  {
   "cell_type": "code",
   "execution_count": 64,
   "id": "06b35b9c",
   "metadata": {},
   "outputs": [
    {
     "name": "stdout",
     "output_type": "stream",
     "text": [
      "a\n",
      "b\n",
      "c\n",
      "m\n",
      "done\n"
     ]
    }
   ],
   "source": [
    "fruits = ['a', 'b', 'c', 'm']\n",
    "for fruit in fruits:\n",
    "    print(fruit)\n",
    "print(\"done\")\n"
   ]
  },
  {
   "cell_type": "code",
   "execution_count": 71,
   "id": "95452591",
   "metadata": {},
   "outputs": [
    {
     "name": "stdout",
     "output_type": "stream",
     "text": [
      "1\n",
      "<class 'int'>\n",
      "140704430892848\n",
      "\n",
      "\n",
      "2\n",
      "<class 'int'>\n",
      "140704430892880\n",
      "\n",
      "\n",
      "['a', 'b', 'c', 'm']\n",
      "<class 'list'>\n",
      "2006650456192\n",
      "\n",
      "\n",
      "hello\n",
      "<class 'str'>\n",
      "2006650399216\n",
      "\n",
      "\n",
      "2\n",
      "<class 'int'>\n",
      "140704430892880\n",
      "\n",
      "\n",
      "hello\n",
      "<class 'str'>\n",
      "2006650399216\n",
      "\n",
      "\n",
      "(1, 2, 3)\n",
      "<class 'tuple'>\n",
      "2006650534144\n",
      "\n",
      "\n",
      "[1, 2, 3]\n",
      "<class 'list'>\n",
      "2006649440768\n",
      "\n",
      "\n",
      "(1, 2, 3)\n",
      "<class 'tuple'>\n",
      "2006650534144\n",
      "\n",
      "\n",
      "[1, 2, 3]\n",
      "<class 'list'>\n",
      "2006650964416\n",
      "\n",
      "\n",
      "33421\n",
      "<class 'int'>\n",
      "2006650511312\n",
      "\n",
      "\n",
      "hello\n",
      "<class 'str'>\n",
      "2006650399216\n",
      "\n",
      "\n",
      "done!\n"
     ]
    }
   ],
   "source": [
    "fruitss = [1, 2, fruits, \"hello\",2, \"hello\", (1,2,3), [1,2,3],(1,2,3), [1,2,3] ,33421, \"hello\"]\n",
    "for f in fruitss:\n",
    "    print(f)\n",
    "    print(type(f))\n",
    "    print(id(f))\n",
    "    print(\"\\n\")\n",
    "print(\"done!\")"
   ]
  },
  {
   "cell_type": "code",
   "execution_count": 79,
   "id": "31adcc33",
   "metadata": {},
   "outputs": [
    {
     "name": "stdout",
     "output_type": "stream",
     "text": [
      "10 equals 2 * 5\n",
      "11 is a prime number\n",
      "12 equals 2 * 6\n",
      "13 is a prime number\n",
      "14 equals 2 * 7\n",
      "15 equals 3 * 5\n",
      "16 equals 2 * 8\n",
      "17 is a prime number\n",
      "18 equals 2 * 9\n",
      "19 is a prime number\n"
     ]
    }
   ],
   "source": [
    "for num in range(10,20):\n",
    "    for i in range(2,num):\n",
    "        if num%i == 0:\n",
    "            j = num/i\n",
    "            print(\"%d equals %d * %d\" % (num,i,j))\n",
    "            break\n",
    "    else:\n",
    "        print(num, 'is a prime number')\n",
    "        "
   ]
  },
  {
   "cell_type": "code",
   "execution_count": 80,
   "id": "ac7c2e89",
   "metadata": {},
   "outputs": [
    {
     "name": "stdout",
     "output_type": "stream",
     "text": [
      "8\n",
      "2\n",
      "3\n"
     ]
    }
   ],
   "source": [
    "name = \"universe\"\n",
    "dict2 = {1:\"hello\", 3:\"world\"}\n",
    "print(len(name))\n",
    "li = [2,34,24]\n",
    "print(len(dict2))\n",
    "print(len(li))"
   ]
  },
  {
   "cell_type": "code",
   "execution_count": 83,
   "id": "7a72bf5b",
   "metadata": {},
   "outputs": [
    {
     "name": "stdout",
     "output_type": "stream",
     "text": [
      "niv\n"
     ]
    }
   ],
   "source": [
    "print(name[-7:-4])\n"
   ]
  },
  {
   "cell_type": "code",
   "execution_count": 86,
   "id": "e400813e",
   "metadata": {},
   "outputs": [
    {
     "name": "stdout",
     "output_type": "stream",
     "text": [
      "[2, 3324, 134, 1, 43, 243, 1243, 2, 12433421, 43, 2, 432, 143, 1]\n",
      "[3324, 134, 1, 43, 243, 1243, 2, 12433421, 43, 2, 432, 143, 1]\n"
     ]
    }
   ],
   "source": [
    "li = [2,3324,134,1,43,243,1243,2,12433421,43,2,432,143,1]\n",
    "print(li)\n",
    "li.remove(2)\n",
    "print(li)"
   ]
  },
  {
   "cell_type": "code",
   "execution_count": 99,
   "id": "9c1a840c",
   "metadata": {},
   "outputs": [
    {
     "name": "stdout",
     "output_type": "stream",
     "text": [
      "['one', 'two', 'one', 'one']\n",
      "['two']\n"
     ]
    }
   ],
   "source": [
    "li2 = [\"one\", \"two\", \"one\", \"one\"]\n",
    "print(li2)\n",
    "flag = True\n",
    "while(flag):\n",
    "    if \"one\" in li2:\n",
    "        li2.remove(\"one\")\n",
    "    else:\n",
    "        flag = False\n",
    "print(li2)"
   ]
  },
  {
   "cell_type": "code",
   "execution_count": 89,
   "id": "a8f61e17",
   "metadata": {},
   "outputs": [
    {
     "data": {
      "text/plain": [
       "3.141592653589793"
      ]
     },
     "execution_count": 89,
     "metadata": {},
     "output_type": "execute_result"
    }
   ],
   "source": [
    "from math import pi\n",
    "pi\n"
   ]
  },
  {
   "cell_type": "code",
   "execution_count": 102,
   "id": "0a893e24",
   "metadata": {},
   "outputs": [
    {
     "name": "stdout",
     "output_type": "stream",
     "text": [
      "enter x : 32\n",
      "enter y : 23\n",
      "enter number for op : 2\n",
      "9\n"
     ]
    }
   ],
   "source": [
    "def add(x,y):\n",
    "    return x+y\n",
    "def sub(x,y):\n",
    "    return x-y\n",
    "\n",
    "x = int(input(\"enter x : \"))\n",
    "y = int(input(\"enter y : \"))\n",
    "a = int(input(\"enter number for op : \"))\n",
    "if(a == 1):\n",
    "    print(add(x,y))\n",
    "elif (a == 2):\n",
    "    print(sub(x,y))\n"
   ]
  },
  {
   "cell_type": "code",
   "execution_count": 103,
   "id": "dadcaf0c",
   "metadata": {},
   "outputs": [
    {
     "name": "stdout",
     "output_type": "stream",
     "text": [
      "Requirement already satisfied: keras in c:\\anaconda3\\lib\\site-packages (2.8.0)\n",
      "\n",
      "[notice] A new release of pip available: 22.1.2 -> 23.0.1\n",
      "[notice] To update, run: python.exe -m pip install --upgrade pip\n",
      "Note: you may need to restart the kernel to use updated packages.\n"
     ]
    }
   ],
   "source": [
    "pip install keras\n"
   ]
  },
  {
   "cell_type": "code",
   "execution_count": 104,
   "id": "158e49d6",
   "metadata": {},
   "outputs": [
    {
     "name": "stdout",
     "output_type": "stream",
     "text": [
      "Requirement already satisfied: pip in c:\\anaconda3\\lib\\site-packages (22.1.2)\n",
      "Collecting pip\n",
      "  Downloading pip-23.0.1-py3-none-any.whl (2.1 MB)\n",
      "     ---------------------------------------- 2.1/2.1 MB 162.2 kB/s eta 0:00:00\n",
      "Installing collected packages: pip\n",
      "  Attempting uninstall: pip\n",
      "    Found existing installation: pip 22.1.2\n",
      "    Uninstalling pip-22.1.2:\n",
      "      Successfully uninstalled pip-22.1.2\n",
      "Successfully installed pip-23.0.1\n",
      "Note: you may need to restart the kernel to use updated packages.\n"
     ]
    }
   ],
   "source": [
    "pip install --upgrade pip\n"
   ]
  },
  {
   "cell_type": "code",
   "execution_count": null,
   "id": "0b4840ce",
   "metadata": {},
   "outputs": [],
   "source": []
  }
 ],
 "metadata": {
  "kernelspec": {
   "display_name": "Python 3",
   "language": "python",
   "name": "python3"
  },
  "language_info": {
   "codemirror_mode": {
    "name": "ipython",
    "version": 3
   },
   "file_extension": ".py",
   "mimetype": "text/x-python",
   "name": "python",
   "nbconvert_exporter": "python",
   "pygments_lexer": "ipython3",
   "version": "3.8.8"
  }
 },
 "nbformat": 4,
 "nbformat_minor": 5
}
