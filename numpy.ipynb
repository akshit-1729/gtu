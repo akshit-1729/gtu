{
 "cells": [
  {
   "cell_type": "code",
   "execution_count": 6,
   "id": "eb4f0944",
   "metadata": {},
   "outputs": [
    {
     "name": "stdout",
     "output_type": "stream",
     "text": [
      "Requirement already satisfied: numpy in c:\\anaconda3\\lib\\site-packages (1.20.1)\n",
      "Note: you may need to restart the kernel to use updated packages.\n"
     ]
    },
    {
     "name": "stderr",
     "output_type": "stream",
     "text": [
      "ERROR: Could not find a version that satisfies the requirement as (from versions: none)\n",
      "ERROR: No matching distribution found for as\n"
     ]
    }
   ],
   "source": [
    "pip install numpy \n"
   ]
  },
  {
   "cell_type": "code",
   "execution_count": 4,
   "id": "50758a72",
   "metadata": {},
   "outputs": [
    {
     "name": "stdout",
     "output_type": "stream",
     "text": [
      "(1, 3, 5)\n",
      "1975245231744 \n",
      "\n",
      "(3, 234, 134)\n",
      "1975245085376\n"
     ]
    }
   ],
   "source": [
    "tp = (1,3,5)\n",
    "print(tp)\n",
    "print(id(tp), \"\\n\")\n",
    "tp = (3,234,134)\n",
    "print(tp)\n",
    "print(id(tp))"
   ]
  },
  {
   "cell_type": "code",
   "execution_count": 14,
   "id": "4aa687a2",
   "metadata": {},
   "outputs": [
    {
     "name": "stdout",
     "output_type": "stream",
     "text": [
      "[list([1, 2, 3, 4, 5]) list([6, 7, 8, 9, 0]) list([1, 2, 3, 4])]\n",
      "(3,)\n",
      "1\n"
     ]
    }
   ],
   "source": [
    "import numpy as np\n",
    "arr = np.array([[1,2,3,4,5], [6,7,8,9,0], [1,2,3,4]], dtype=object)\n",
    "print(arr)\n",
    "print(arr.shape)\n",
    "print(arr.ndim)"
   ]
  },
  {
   "cell_type": "code",
   "execution_count": 8,
   "id": "8c3d0d45",
   "metadata": {},
   "outputs": [
    {
     "name": "stdout",
     "output_type": "stream",
     "text": [
      "61\n"
     ]
    }
   ],
   "source": [
    "from numpy import random\n",
    "x = random.randint(100)\n",
    "print(x)"
   ]
  },
  {
   "cell_type": "code",
   "execution_count": 15,
   "id": "f6719e39",
   "metadata": {},
   "outputs": [
    {
     "name": "stdout",
     "output_type": "stream",
     "text": [
      "7766\n",
      "3\n"
     ]
    }
   ],
   "source": [
    "x = random.randint(10000)\n",
    "print(x)\n",
    "x = random.randint(5)\n",
    "print(x)"
   ]
  },
  {
   "cell_type": "code",
   "execution_count": 16,
   "id": "10044fd9",
   "metadata": {},
   "outputs": [
    {
     "data": {
      "text/plain": [
       "0.25665303427637487"
      ]
     },
     "execution_count": 16,
     "metadata": {},
     "output_type": "execute_result"
    }
   ],
   "source": [
    "x = random.rand()\n",
    "x"
   ]
  },
  {
   "cell_type": "code",
   "execution_count": 26,
   "id": "602cec68",
   "metadata": {},
   "outputs": [
    {
     "name": "stdout",
     "output_type": "stream",
     "text": [
      "[[57 83 30 63 69]\n",
      " [63  5 23 81 59]\n",
      " [17 64 30  3 94]]\n"
     ]
    }
   ],
   "source": [
    "x = random.randint(100, size=(3,5))\n",
    "print(x)"
   ]
  },
  {
   "cell_type": "code",
   "execution_count": 33,
   "id": "a0d6c56a",
   "metadata": {},
   "outputs": [
    {
     "name": "stdout",
     "output_type": "stream",
     "text": [
      "input array is  [8]\n",
      "output scalar from input array 8\n"
     ]
    }
   ],
   "source": [
    "in_arr = np.array([8])\n",
    "print(\"input array is \", in_arr)\n",
    "\n",
    "out_scalar = in_arr.item()\n",
    "print(\"output scalar from input array\", out_scalar)"
   ]
  },
  {
   "cell_type": "code",
   "execution_count": 41,
   "id": "be299e8c",
   "metadata": {},
   "outputs": [
    {
     "name": "stdout",
     "output_type": "stream",
     "text": [
      "<class 'list'> [1, 2, 3]\n",
      "<class 'list'> [[1], [2], [3]]\n",
      "[1 2 3]\n",
      "(3,)\n"
     ]
    }
   ],
   "source": [
    "from numpy import array\n",
    "\n",
    "l1 = [1,2,3]\n",
    "l2 = [[1], [2], [3]]\n",
    "print(type(l1), l1)\n",
    "print(type(l2), l2)\n",
    "a = array(l1)\n",
    "print(a)\n",
    "print(a.shape)"
   ]
  },
  {
   "cell_type": "code",
   "execution_count": 42,
   "id": "b9192816",
   "metadata": {},
   "outputs": [
    {
     "name": "stdout",
     "output_type": "stream",
     "text": [
      "[[1 2]\n",
      " [3 4]]\n"
     ]
    }
   ],
   "source": [
    "a = np.matrix('1 2; 3 4')\n",
    "print(a)"
   ]
  },
  {
   "cell_type": "code",
   "execution_count": 46,
   "id": "c05bf029",
   "metadata": {},
   "outputs": [
    {
     "name": "stdout",
     "output_type": "stream",
     "text": [
      "[[list([4, 3, 1]) list([4, 3])]]\n"
     ]
    }
   ],
   "source": [
    "b = np.matrix([[4,3,1], [4,3]], dtype=object)\n",
    "print(b)"
   ]
  },
  {
   "cell_type": "code",
   "execution_count": 48,
   "id": "6d71f99d",
   "metadata": {},
   "outputs": [
    {
     "name": "stdout",
     "output_type": "stream",
     "text": [
      "[22 25]\n"
     ]
    }
   ],
   "source": [
    "a = [1,2]\n",
    "b = [[6,7], [8,9]]\n",
    "print(np.dot(a,b))"
   ]
  },
  {
   "cell_type": "code",
   "execution_count": 50,
   "id": "4d4577e6",
   "metadata": {},
   "outputs": [
    {
     "name": "stdout",
     "output_type": "stream",
     "text": [
      "[[41 67]\n",
      " [53 87]]\n",
      "-------------------------\n",
      "[[30 34]\n",
      " [86 98]]\n"
     ]
    }
   ],
   "source": [
    "a = [[6,7],\n",
    "    [8,9]]\n",
    "b = [[1,3],\n",
    "    [5,7]]\n",
    "print(np.dot(a,b))\n",
    "print(\"-------------------------\")\n",
    "print(np.dot(b,a))"
   ]
  },
  {
   "cell_type": "code",
   "execution_count": 53,
   "id": "bda6fdeb",
   "metadata": {},
   "outputs": [
    {
     "name": "stdout",
     "output_type": "stream",
     "text": [
      "[[       1        3       37]\n",
      " [33341341       23       32]\n",
      " [       3       34      342]]\n",
      "1\n",
      "33341341\n"
     ]
    }
   ],
   "source": [
    "arr = np.array([[1,3,37], [33341341,23,32], [3, 34, 342]])\n",
    "print(arr)\n",
    "\n",
    "print(np.amin(arr))\n",
    "print(np.amax(arr))\n"
   ]
  },
  {
   "cell_type": "code",
   "execution_count": 61,
   "id": "bc2e7cc0",
   "metadata": {},
   "outputs": [
    {
     "name": "stdout",
     "output_type": "stream",
     "text": [
      "mean :  178.33333333333334\n",
      "median :  34.0\n",
      "std :  231.6693045413368\n",
      "variance : 53670.66666666666\n"
     ]
    }
   ],
   "source": [
    "arr = np.array([1,3,434,532,543,4,34,13,41])\n",
    "print(\"mean : \", np.mean(arr))\n",
    "print(\"median : \", np.median(arr))\n",
    "print(\"std : \", np.std(arr))\n",
    "print(\"variance :\", np.var(arr))"
   ]
  },
  {
   "cell_type": "code",
   "execution_count": 69,
   "id": "4e771562",
   "metadata": {},
   "outputs": [
    {
     "data": {
      "text/plain": [
       "231.6693045413368"
      ]
     },
     "execution_count": 69,
     "metadata": {},
     "output_type": "execute_result"
    }
   ],
   "source": [
    "import math\n",
    "a = math.sqrt(53670.66666666666)\n",
    "a"
   ]
  },
  {
   "cell_type": "code",
   "execution_count": 63,
   "id": "e9c9c0e8",
   "metadata": {},
   "outputs": [
    {
     "name": "stdout",
     "output_type": "stream",
     "text": [
      "27.5\n",
      "4.0\n",
      "23.5\n"
     ]
    }
   ],
   "source": [
    "data = [32,32,14,13243,12,4321,4,35,23,4,3,342,4,2,324,213,4]\n",
    "\n",
    "q1 = np.median(data[:10])\n",
    "q2 = np.median(data[10:])\n",
    "print(q1)\n",
    "print(q2)\n",
    "iqr = q1-q2\n",
    "print(iqr)"
   ]
  },
  {
   "cell_type": "code",
   "execution_count": 67,
   "id": "164b40e2",
   "metadata": {},
   "outputs": [
    {
     "name": "stdout",
     "output_type": "stream",
     "text": [
      "[ 3 10  4]\n"
     ]
    }
   ],
   "source": [
    "a = np.array([1,2,2])\n",
    "b = np.array([3,5,2])\n",
    "print(a*b)"
   ]
  },
  {
   "cell_type": "code",
   "execution_count": null,
   "id": "ce83afc1",
   "metadata": {},
   "outputs": [],
   "source": []
  }
 ],
 "metadata": {
  "kernelspec": {
   "display_name": "Python 3",
   "language": "python",
   "name": "python3"
  },
  "language_info": {
   "codemirror_mode": {
    "name": "ipython",
    "version": 3
   },
   "file_extension": ".py",
   "mimetype": "text/x-python",
   "name": "python",
   "nbconvert_exporter": "python",
   "pygments_lexer": "ipython3",
   "version": "3.8.8"
  }
 },
 "nbformat": 4,
 "nbformat_minor": 5
}
