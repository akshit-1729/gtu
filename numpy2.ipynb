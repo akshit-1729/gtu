{
 "cells": [
  {
   "cell_type": "code",
   "execution_count": 11,
   "id": "0dea6b82",
   "metadata": {},
   "outputs": [
    {
     "name": "stdout",
     "output_type": "stream",
     "text": [
      "(2, 2, 2)\n",
      "(16, 8, 4)\n"
     ]
    }
   ],
   "source": [
    "import numpy as np\n",
    "\n",
    "arr = np.array([\n",
    "    [[1,2],[3,4]],\n",
    "    [[5,6],[7,8]], \n",
    "    ])\n",
    "print(arr.shape)\n",
    "print(arr.strides)\n"
   ]
  },
  {
   "cell_type": "code",
   "execution_count": 14,
   "id": "a900aaef",
   "metadata": {},
   "outputs": [
    {
     "name": "stdout",
     "output_type": "stream",
     "text": [
      "[False  True False  True False]\n"
     ]
    }
   ],
   "source": [
    "bools = [False, True, False, True, False]\n",
    "b = np.array(bools)\n",
    "print(b)"
   ]
  },
  {
   "cell_type": "code",
   "execution_count": 66,
   "id": "f62ef043",
   "metadata": {},
   "outputs": [
    {
     "data": {
      "text/plain": [
       "675121728"
      ]
     },
     "execution_count": 66,
     "metadata": {},
     "output_type": "execute_result"
    }
   ],
   "source": [
    "# np.random.seed(18)\n",
    "np.random.randint(1000000000)"
   ]
  },
  {
   "cell_type": "code",
   "execution_count": null,
   "id": "7fa64959",
   "metadata": {},
   "outputs": [],
   "source": []
  },
  {
   "cell_type": "code",
   "execution_count": null,
   "id": "8dd6d2ae",
   "metadata": {},
   "outputs": [],
   "source": []
  }
 ],
 "metadata": {
  "kernelspec": {
   "display_name": "Python 3",
   "language": "python",
   "name": "python3"
  },
  "language_info": {
   "codemirror_mode": {
    "name": "ipython",
    "version": 3
   },
   "file_extension": ".py",
   "mimetype": "text/x-python",
   "name": "python",
   "nbconvert_exporter": "python",
   "pygments_lexer": "ipython3",
   "version": "3.8.8"
  }
 },
 "nbformat": 4,
 "nbformat_minor": 5
}
