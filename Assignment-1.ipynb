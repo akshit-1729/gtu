{
 "cells": [
  {
   "cell_type": "code",
   "execution_count": 13,
   "id": "ca70dda1",
   "metadata": {},
   "outputs": [
    {
     "name": "stdout",
     "output_type": "stream",
     "text": [
      "Requirement already satisfied: requests in c:\\anaconda3\\lib\\site-packages (2.25.1)\n",
      "Requirement already satisfied: idna<3,>=2.5 in c:\\anaconda3\\lib\\site-packages (from requests) (2.10)\n",
      "Requirement already satisfied: urllib3<1.27,>=1.21.1 in c:\\anaconda3\\lib\\site-packages (from requests) (1.26.4)\n",
      "Requirement already satisfied: certifi>=2017.4.17 in c:\\anaconda3\\lib\\site-packages (from requests) (2020.12.5)\n",
      "Requirement already satisfied: chardet<5,>=3.0.2 in c:\\anaconda3\\lib\\site-packages (from requests) (4.0.0)\n",
      "Note: you may need to restart the kernel to use updated packages.\n"
     ]
    }
   ],
   "source": [
    "pip install requests\n"
   ]
  },
  {
   "cell_type": "code",
   "execution_count": 19,
   "id": "e1bff1ca",
   "metadata": {},
   "outputs": [
    {
     "data": {
      "text/plain": [
       "array([[  0., 100.,  78., 342.],\n",
       "       [  1.,  11.,  62., 191.],\n",
       "       [  2.,   8.,  85., 252.],\n",
       "       [  3.,  71.,  24., 307.],\n",
       "       [  4., 104.,  17., 229.],\n",
       "       [  5.,  18., 104., 246.],\n",
       "       [  6.,   8.,  76., 226.],\n",
       "       [  7.,  86.,  74., 288.],\n",
       "       [  8.,  12.,  60., 216.],\n",
       "       [  9.,  25.,  90., 304.],\n",
       "       [ 10.,  56.,   6., 272.],\n",
       "       [ 11.,  88.,  69., 302.],\n",
       "       [ 12., 147.,  65., 312.],\n",
       "       [ 13., 121., 146., 370.],\n",
       "       [ 15.,  99., 110., 362.]])"
      ]
     },
     "execution_count": 19,
     "metadata": {},
     "output_type": "execute_result"
    }
   ],
   "source": [
    "import numpy as np\n",
    "cric_data = np.loadtxt(\"a.tsv\", skiprows=1)\n",
    "cric_data"
   ]
  },
  {
   "cell_type": "code",
   "execution_count": 54,
   "id": "ff7b8848",
   "metadata": {},
   "outputs": [
    {
     "name": "stdout",
     "output_type": "stream",
     "text": [
      "Mean of Sachin is :  63.6\n",
      "Mean of Dravid is :  71.06666666666666\n",
      "Mean of India is :  281.26666666666665\n",
      "Median of Sachin is :  71.0\n",
      "Median of Dravid is :  74.0\n",
      "Median of India is :  288.0\n"
     ]
    }
   ],
   "source": [
    "sachin = np.zeros(15)\n",
    "dravid = np.zeros(15)\n",
    "india = np.zeros(15)\n",
    "for i in range(15):\n",
    "    sachin[i] = cric_data[i][1]\n",
    "\n",
    "for i in range(15):\n",
    "    dravid[i] = cric_data[i][2]\n",
    "    \n",
    "for i in range(15):\n",
    "    india[i] = cric_data[i][3]\n",
    "    \n",
    "def meanCal(arr):\n",
    "    return np.mean(arr)\n",
    "def medianCal(arr):\n",
    "    return np.median(arr)\n",
    "\n",
    "print(\"Mean of Sachin is : \" , meanCal(sachin))\n",
    "print(\"Mean of Dravid is : \" , meanCal(dravid))\n",
    "print(\"Mean of India is : \" , meanCal(india))\n",
    "      \n",
    "print(\"Median of Sachin is : \" , medianCal(sachin))\n",
    "print(\"Median of Dravid is : \" , medianCal(dravid))\n",
    "print(\"Median of India is : \" , medianCal(india))\n",
    "    \n"
   ]
  },
  {
   "cell_type": "code",
   "execution_count": null,
   "id": "dbb54afc",
   "metadata": {},
   "outputs": [],
   "source": []
  }
 ],
 "metadata": {
  "kernelspec": {
   "display_name": "Python 3",
   "language": "python",
   "name": "python3"
  },
  "language_info": {
   "codemirror_mode": {
    "name": "ipython",
    "version": 3
   },
   "file_extension": ".py",
   "mimetype": "text/x-python",
   "name": "python",
   "nbconvert_exporter": "python",
   "pygments_lexer": "ipython3",
   "version": "3.8.8"
  }
 },
 "nbformat": 4,
 "nbformat_minor": 5
}
